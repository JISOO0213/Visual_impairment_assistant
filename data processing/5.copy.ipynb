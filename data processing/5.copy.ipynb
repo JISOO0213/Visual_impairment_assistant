{
 "cells": [
  {
   "cell_type": "code",
   "execution_count": 1,
   "metadata": {},
   "outputs": [
    {
     "data": {
      "text/plain": [
       "'./imgs\\\\train'"
      ]
     },
     "execution_count": 1,
     "metadata": {},
     "output_type": "execute_result"
    }
   ],
   "source": [
    "import shutil\n",
    "\n",
    "# 삭제된 txt 파일 다시 imgs 파일이 있는 경로로 옮기기\n",
    "shutil.move(\"./xml_to_txt/valid/*\", \"./imgs\")\n",
    "shutil.move(\"./xml_to_txt/train/*\", \"./imgs\")"
   ]
  }
 ],
 "metadata": {
  "kernelspec": {
   "display_name": "data",
   "language": "python",
   "name": "python3"
  },
  "language_info": {
   "codemirror_mode": {
    "name": "ipython",
    "version": 3
   },
   "file_extension": ".py",
   "mimetype": "text/x-python",
   "name": "python",
   "nbconvert_exporter": "python",
   "pygments_lexer": "ipython3",
   "version": "3.9.13 (main, Oct 13 2022, 21:23:06) [MSC v.1916 64 bit (AMD64)]"
  },
  "orig_nbformat": 4,
  "vscode": {
   "interpreter": {
    "hash": "00fabcb42c333adaa0b676958a17f36cc1b595255f0e0fe12c517b8b7089a7e8"
   }
  }
 },
 "nbformat": 4,
 "nbformat_minor": 2
}
