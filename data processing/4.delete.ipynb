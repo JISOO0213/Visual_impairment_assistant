{
 "cells": [
  {
   "cell_type": "code",
   "execution_count": 2,
   "metadata": {},
   "outputs": [
    {
     "name": "stdout",
     "output_type": "stream",
     "text": [
      "18374\n",
      "9689\n",
      "['./imgs/MP_SEL_025186.txt', './imgs/MP_SEL_033661.txt', './imgs/MP_SEL_026250.txt', './imgs/MP_SEL_028976.txt', './imgs/MP_SEL_033688.txt', './imgs/MP_SEL_024663.txt', './imgs/MP_SEL_026690.txt', './imgs/MP_SEL_023293.txt', './imgs/MP_SEL_028463.txt', './imgs/MP_SEL_027076.txt']\n"
     ]
    },
    {
     "name": "stderr",
     "output_type": "stream",
     "text": [
      "100%|██████████| 9689/9689 [00:02<00:00, 4296.65it/s]\n"
     ]
    }
   ],
   "source": [
    "from tqdm import tqdm\n",
    "from glob import glob\n",
    "import os\n",
    "\n",
    "# 목표 라벨링이 없는 파일은 삭제\n",
    "with open('./dataset/train.txt','r') as f :\n",
    "    train_img_list = f.readlines()\n",
    "\n",
    "with open('./dataset/valid.txt','r') as f :\n",
    "    valid_img_list = f.readlines()\n",
    "\n",
    "need_img_list = train_img_list + valid_img_list\n",
    "\n",
    "need_img_list = [i[:-1] for i in need_img_list]\n",
    "\n",
    "all_img_list = glob('./imgs/*')\n",
    "all_img_list = [i[:6]+'/'+i[7:] for i in all_img_list]\n",
    "\n",
    "delete_img_list = list(set(all_img_list)-set(need_img_list))\n",
    "print(len(all_img_list))\n",
    "print(len(delete_img_list))\n",
    "print(delete_img_list[:10])\n",
    "\n",
    "for i in tqdm(delete_img_list):\n",
    "    os.remove(i)"
   ]
  }
 ],
 "metadata": {
  "kernelspec": {
   "display_name": "data",
   "language": "python",
   "name": "python3"
  },
  "language_info": {
   "codemirror_mode": {
    "name": "ipython",
    "version": 3
   },
   "file_extension": ".py",
   "mimetype": "text/x-python",
   "name": "python",
   "nbconvert_exporter": "python",
   "pygments_lexer": "ipython3",
   "version": "3.9.13 (main, Oct 13 2022, 21:23:06) [MSC v.1916 64 bit (AMD64)]"
  },
  "orig_nbformat": 4,
  "vscode": {
   "interpreter": {
    "hash": "00fabcb42c333adaa0b676958a17f36cc1b595255f0e0fe12c517b8b7089a7e8"
   }
  }
 },
 "nbformat": 4,
 "nbformat_minor": 2
}
