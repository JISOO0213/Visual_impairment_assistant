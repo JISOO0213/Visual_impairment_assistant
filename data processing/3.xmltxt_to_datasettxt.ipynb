{
 "cells": [
  {
   "cell_type": "code",
   "execution_count": 13,
   "metadata": {},
   "outputs": [
    {
     "name": "stdout",
     "output_type": "stream",
     "text": [
      "Requirement already satisfied: tqdm in c:\\users\\khj12\\anaconda3\\envs\\data\\lib\\site-packages (4.64.1)"
     ]
    },
    {
     "name": "stderr",
     "output_type": "stream",
     "text": [
      "WARNING: Ignoring invalid distribution -rotobuf (c:\\users\\khj12\\anaconda3\\envs\\data\\lib\\site-packages)\n",
      "WARNING: Ignoring invalid distribution -rotobuf (c:\\users\\khj12\\anaconda3\\envs\\data\\lib\\site-packages)\n",
      "WARNING: Ignoring invalid distribution -rotobuf (c:\\users\\khj12\\anaconda3\\envs\\data\\lib\\site-packages)\n",
      "WARNING: Ignoring invalid distribution -rotobuf (c:\\users\\khj12\\anaconda3\\envs\\data\\lib\\site-packages)\n",
      "WARNING: Ignoring invalid distribution -rotobuf (c:\\users\\khj12\\anaconda3\\envs\\data\\lib\\site-packages)\n",
      "WARNING: Ignoring invalid distribution -rotobuf (c:\\users\\khj12\\anaconda3\\envs\\data\\lib\\site-packages)\n"
     ]
    },
    {
     "name": "stdout",
     "output_type": "stream",
     "text": [
      "\n",
      "Requirement already satisfied: colorama in c:\\users\\khj12\\anaconda3\\envs\\data\\lib\\site-packages (from tqdm) (0.4.6)\n"
     ]
    }
   ],
   "source": [
    "# !pip install tqdm"
   ]
  },
  {
   "cell_type": "code",
   "execution_count": 2,
   "metadata": {},
   "outputs": [
    {
     "name": "stderr",
     "output_type": "stream",
     "text": [
      "100%|██████████| 7016/7016 [00:00<00:00, 301369.62it/s]\n",
      "100%|██████████| 1755/1755 [00:00<00:00, 585507.76it/s]\n"
     ]
    }
   ],
   "source": [
    "import xml.etree.ElementTree as ET\n",
    "from collections import defaultdict\n",
    "from glob import glob\n",
    "import os\n",
    "from tqdm import tqdm\n",
    "\n",
    "t = glob('./xml_to_txt/train/*')\n",
    "v = glob('./xml_to_txt/valid/*')\n",
    "\n",
    "# xml txt나눠져 있는걸 가져와서 이름이 같은 img(.jpg,.png)에 맞춰서 \n",
    "# dataset에 한 txt파일에 경로+파일이름(확장자 포함)을 저장\n",
    "\n",
    "tt= ''\n",
    "\n",
    "for i in tqdm(t):\n",
    "    tt = tt + './imgs/' + i[19:-4] + '.jpg' + '\\n'\n",
    "with open('./dataset/train.txt','w') as f:\n",
    "    f.write(tt)\n",
    "\n",
    "vv = ''\n",
    "\n",
    "for i in tqdm(v):\n",
    "    vv = vv + './imgs/' + i[19:-4] + '.jpg' + '\\n'\n",
    "with open('./dataset/valid.txt','w') as f:\n",
    "    f.write(vv)"
   ]
  }
 ],
 "metadata": {
  "kernelspec": {
   "display_name": "Data",
   "language": "python",
   "name": "data"
  },
  "language_info": {
   "codemirror_mode": {
    "name": "ipython",
    "version": 3
   },
   "file_extension": ".py",
   "mimetype": "text/x-python",
   "name": "python",
   "nbconvert_exporter": "python",
   "pygments_lexer": "ipython3",
   "version": "3.9.13 (main, Oct 13 2022, 21:23:06) [MSC v.1916 64 bit (AMD64)]"
  },
  "orig_nbformat": 4,
  "vscode": {
   "interpreter": {
    "hash": "00fabcb42c333adaa0b676958a17f36cc1b595255f0e0fe12c517b8b7089a7e8"
   }
  }
 },
 "nbformat": 4,
 "nbformat_minor": 2
}
